{
 "cells": [
  {
   "cell_type": "code",
   "execution_count": 1,
   "id": "3102126b",
   "metadata": {},
   "outputs": [],
   "source": [
    "import numpy as np"
   ]
  },
  {
   "cell_type": "code",
   "execution_count": 87,
   "id": "da76bd56",
   "metadata": {},
   "outputs": [],
   "source": [
    "import csv\n",
    "import pandas as pd\n",
    "import numpy as np\n",
    "import matplotlib.pyplot as plt\n",
    "from scipy import integrate\n",
    "# read flash.dat to a list of lists\n",
    "# datContent = [i.strip().split() for i in open(\"./densZ0002680.dat\").readlines()]\n",
    "df = pd.read_csv(\"./data/densX0000020.dat\", sep=\" \",  names=[\"X\",\"Y\",\"Z\",\"dens\"])\n",
    "data = np.array([df.X.values, df.Y.values, df.Z.values, df.dens.values])\n",
    "# df = pd.read_csv(\"./data/psi34.dat\", sep=\" \",  names=[\"X\",\"Y\",\"Z\",\"dens\"])\n",
    "# data = np.array([df.X.values, df.Y.values, df.dens.values])\n",
    "Nx = 40\n",
    "Ny = 40\n",
    "Nz = 40\n",
    "xr = max(data[0])\n",
    "xl = min(data[0])\n",
    "yr = max(data[1])\n",
    "yl = min(data[1])\n",
    "zr = xr#max(data[2])\n",
    "zl = xl#min(data[2])\n",
    "dx = (xr-xl)/Nx\n",
    "dy = (yr-yl)/Ny\n",
    "dz = (zr-zl)/Nz"
   ]
  },
  {
   "cell_type": "code",
   "execution_count": 88,
   "id": "c48b4804",
   "metadata": {},
   "outputs": [
    {
     "name": "stdout",
     "output_type": "stream",
     "text": [
      "68921\n"
     ]
    },
    {
     "data": {
      "text/html": [
       "<div>\n",
       "<style scoped>\n",
       "    .dataframe tbody tr th:only-of-type {\n",
       "        vertical-align: middle;\n",
       "    }\n",
       "\n",
       "    .dataframe tbody tr th {\n",
       "        vertical-align: top;\n",
       "    }\n",
       "\n",
       "    .dataframe thead th {\n",
       "        text-align: right;\n",
       "    }\n",
       "</style>\n",
       "<table border=\"1\" class=\"dataframe\">\n",
       "  <thead>\n",
       "    <tr style=\"text-align: right;\">\n",
       "      <th></th>\n",
       "      <th>X</th>\n",
       "      <th>Y</th>\n",
       "      <th>Z</th>\n",
       "      <th>dens</th>\n",
       "    </tr>\n",
       "  </thead>\n",
       "  <tbody>\n",
       "    <tr>\n",
       "      <th>0</th>\n",
       "      <td>-5.0</td>\n",
       "      <td>-5.0</td>\n",
       "      <td>-5.00</td>\n",
       "      <td>0.0</td>\n",
       "    </tr>\n",
       "    <tr>\n",
       "      <th>1</th>\n",
       "      <td>-5.0</td>\n",
       "      <td>-5.0</td>\n",
       "      <td>-4.75</td>\n",
       "      <td>0.0</td>\n",
       "    </tr>\n",
       "    <tr>\n",
       "      <th>2</th>\n",
       "      <td>-5.0</td>\n",
       "      <td>-5.0</td>\n",
       "      <td>-4.50</td>\n",
       "      <td>0.0</td>\n",
       "    </tr>\n",
       "    <tr>\n",
       "      <th>3</th>\n",
       "      <td>-5.0</td>\n",
       "      <td>-5.0</td>\n",
       "      <td>-4.25</td>\n",
       "      <td>0.0</td>\n",
       "    </tr>\n",
       "    <tr>\n",
       "      <th>4</th>\n",
       "      <td>-5.0</td>\n",
       "      <td>-5.0</td>\n",
       "      <td>-4.00</td>\n",
       "      <td>0.0</td>\n",
       "    </tr>\n",
       "    <tr>\n",
       "      <th>...</th>\n",
       "      <td>...</td>\n",
       "      <td>...</td>\n",
       "      <td>...</td>\n",
       "      <td>...</td>\n",
       "    </tr>\n",
       "    <tr>\n",
       "      <th>68916</th>\n",
       "      <td>5.0</td>\n",
       "      <td>5.0</td>\n",
       "      <td>4.00</td>\n",
       "      <td>0.0</td>\n",
       "    </tr>\n",
       "    <tr>\n",
       "      <th>68917</th>\n",
       "      <td>5.0</td>\n",
       "      <td>5.0</td>\n",
       "      <td>4.25</td>\n",
       "      <td>0.0</td>\n",
       "    </tr>\n",
       "    <tr>\n",
       "      <th>68918</th>\n",
       "      <td>5.0</td>\n",
       "      <td>5.0</td>\n",
       "      <td>4.50</td>\n",
       "      <td>0.0</td>\n",
       "    </tr>\n",
       "    <tr>\n",
       "      <th>68919</th>\n",
       "      <td>5.0</td>\n",
       "      <td>5.0</td>\n",
       "      <td>4.75</td>\n",
       "      <td>0.0</td>\n",
       "    </tr>\n",
       "    <tr>\n",
       "      <th>68920</th>\n",
       "      <td>5.0</td>\n",
       "      <td>5.0</td>\n",
       "      <td>5.00</td>\n",
       "      <td>0.0</td>\n",
       "    </tr>\n",
       "  </tbody>\n",
       "</table>\n",
       "<p>68921 rows × 4 columns</p>\n",
       "</div>"
      ],
      "text/plain": [
       "         X    Y     Z  dens\n",
       "0     -5.0 -5.0 -5.00   0.0\n",
       "1     -5.0 -5.0 -4.75   0.0\n",
       "2     -5.0 -5.0 -4.50   0.0\n",
       "3     -5.0 -5.0 -4.25   0.0\n",
       "4     -5.0 -5.0 -4.00   0.0\n",
       "...    ...  ...   ...   ...\n",
       "68916  5.0  5.0  4.00   0.0\n",
       "68917  5.0  5.0  4.25   0.0\n",
       "68918  5.0  5.0  4.50   0.0\n",
       "68919  5.0  5.0  4.75   0.0\n",
       "68920  5.0  5.0  5.00   0.0\n",
       "\n",
       "[68921 rows x 4 columns]"
      ]
     },
     "execution_count": 88,
     "metadata": {},
     "output_type": "execute_result"
    }
   ],
   "source": [
    "print((Nx+1)**3)\n",
    "df"
   ]
  },
  {
   "cell_type": "code",
   "execution_count": 89,
   "id": "77ef4554",
   "metadata": {},
   "outputs": [],
   "source": [
    "def ijk(i, j, k, Nx, Ny, Nz):\n",
    "    return [(((i) * (Ny + 1)) + (j)) * (Nz + 1) + (k)]\n",
    "\n",
    "def gene_data(f, xl, Nx, dx, yl, Ny, dy, zl, Nz, dz):\n",
    "    data_gen = np.zeros((Nx+1)*(Ny+1)*(Nz+1))\n",
    "    for i in range(Nx+1):\n",
    "        for j in range(Ny+1):\n",
    "            for k in range(Nz+1):\n",
    "                data_gen[ijk(i, j, k, Nx, Ny, Nz)] = f(xl+i*dx, yl+j*dy, zl+k*dz)\n",
    "    return data_gen"
   ]
  },
  {
   "cell_type": "code",
   "execution_count": 90,
   "id": "f17b39fc",
   "metadata": {},
   "outputs": [
    {
     "name": "stdout",
     "output_type": "stream",
     "text": [
      "[-5.0, 0.25, 40, -5.0, 0.25, 40, -5.0, 0.25, 40]\n"
     ]
    }
   ],
   "source": [
    "print([xl,dx,Nx,yl,dy,Ny,zl,dz,Nz])"
   ]
  },
  {
   "cell_type": "code",
   "execution_count": 91,
   "id": "5e2ebe48",
   "metadata": {},
   "outputs": [],
   "source": [
    "def get_normsimp(dd, xl, Nx, dx, yl, Ny, dy, zl, Nz, dz):\n",
    "    normz = np.zeros((Nx+1, Ny+1))\n",
    "    normy = np.zeros((Nx+1))\n",
    "    norm = 0\n",
    "    for i in range(Nx+1):\n",
    "        for j in range(Ny+1):\n",
    "            normz[i,j] = dd[(((i) * (Ny + 1)) + (j)) * (Nz + 1)+0] \\\n",
    "            + 2*sum(dd[(((i) * (Ny + 1)) + (j)) * (Nz + 1):(((i) * (Ny + 1)) + (j)) * (Nz + 1)+Nz-2:2]) \\\n",
    "            + 4*sum(dd[(((i) * (Ny + 1)) + (j)) * (Nz + 1)+1:(((i) * (Ny + 1)) + (j)) * (Nz + 1)+Nz-1:2]) \\\n",
    "            + dd[(((i) * (Ny + 1)) + (j)) * (Nz + 1)+ Nz-1]\n",
    "\n",
    "    for i in range(Nx+1):\n",
    "        normy[i] = normz[i, 0] \\\n",
    "        + 2*sum(normz[i, :Ny-2:2]) \\\n",
    "        + 4*sum(normz[i, 1:Ny-1:2]) \\\n",
    "        + normz[i, Ny-1]\n",
    "\n",
    "    norm = normy[0] \\\n",
    "    + 2*sum(normy[:Nx-2:2]) \\\n",
    "    + 4*sum(normy[1:Nx-1:2]) \\\n",
    "    + normy[Nx-1]\n",
    "\n",
    "    return norm*dx*dy*dz/27"
   ]
  },
  {
   "cell_type": "markdown",
   "id": "6aeec7cd",
   "metadata": {},
   "source": [
    "## test get_normsimp"
   ]
  },
  {
   "cell_type": "code",
   "execution_count": 92,
   "id": "5712373c",
   "metadata": {},
   "outputs": [],
   "source": [
    "omg = 7\n",
    "pi = 4 * np.arctan(1)\n",
    "f1 = lambda x, y, z: pow(np.exp(-omg*(x**2+y**2+z**2)/2)*pow(omg/pi,3/4),2)\n",
    "f2 = lambda x, y, z: np.exp(-(x ** 2 + y ** 2 + z ** 2))\n",
    "\n",
    "test_ana1 = gene_data(f1, xl, Nx, dx, yl, Ny, dy, zl, Nz, dz)\n",
    "test_ana2 = gene_data(f2, xl, Nx, dx, yl, Ny, dy, zl, Nz, dz)"
   ]
  },
  {
   "cell_type": "code",
   "execution_count": 93,
   "id": "1a348d51",
   "metadata": {},
   "outputs": [
    {
     "data": {
      "text/plain": [
       "0.9929094824726277"
      ]
     },
     "execution_count": 93,
     "metadata": {},
     "output_type": "execute_result"
    }
   ],
   "source": [
    "get_normsimp(test_ana1, xl, Nx, dx, yl, Ny, dy, zl, Nz, dz)"
   ]
  },
  {
   "cell_type": "code",
   "execution_count": 44,
   "id": "7559312f",
   "metadata": {},
   "outputs": [
    {
     "data": {
      "text/plain": [
       "(1.0000000000000013, 1.4749921708438215e-08)"
      ]
     },
     "execution_count": 44,
     "metadata": {},
     "output_type": "execute_result"
    }
   ],
   "source": [
    "integrate.tplquad(f1, xl, xr, yl, yr, zl, zr)"
   ]
  },
  {
   "cell_type": "code",
   "execution_count": 64,
   "id": "78eec995",
   "metadata": {},
   "outputs": [
    {
     "data": {
      "text/plain": [
       "5.568327996630138"
      ]
     },
     "execution_count": 64,
     "metadata": {},
     "output_type": "execute_result"
    }
   ],
   "source": [
    "get_normsimp(test_ana2, xl, Nx, dx, yl, Ny, dy, zl, Nz, dz)"
   ]
  },
  {
   "cell_type": "code",
   "execution_count": 46,
   "id": "7b664815",
   "metadata": {},
   "outputs": [
    {
     "data": {
      "text/plain": [
       "(5.568327996806024, 1.4650679248701553e-08)"
      ]
     },
     "execution_count": 46,
     "metadata": {},
     "output_type": "execute_result"
    }
   ],
   "source": [
    "integrate.tplquad(f2, xl, xr, yl, yr, zl, zr)"
   ]
  },
  {
   "cell_type": "markdown",
   "id": "6d86491d",
   "metadata": {},
   "source": [
    "## Define analytical function"
   ]
  },
  {
   "cell_type": "code",
   "execution_count": 94,
   "id": "63c540a7",
   "metadata": {},
   "outputs": [
    {
     "name": "stdout",
     "output_type": "stream",
     "text": [
      "[0.05560293101846714, 0.052122187010512, 0.055999999999999994]\n"
     ]
    }
   ],
   "source": [
    "N = 50*0.00112\n",
    "omg = 7\n",
    "pi = 4 * np.arctan(1)\n",
    "norm = np.sqrt(N)*pow(omg/pi,3/4)\n",
    "anaFunc = lambda x, y, z: np.exp(-omg*(x**2+y**2+z**2)/2)*norm\n",
    "\n",
    "data_anal = gene_data(anaFunc, xl, Nx, dx, yl, Ny, dy, zl, Nz, dz)\n",
    "print([get_normsimp(data_anal**2, xl, Nx, dx, yl, Ny, dy, zl, Nz, dz), get_normsimp(df.dens, xl, Nx, dx, yl, Ny, dy, zl, Nz, dz), N])"
   ]
  },
  {
   "cell_type": "code",
   "execution_count": 95,
   "id": "a4e84685",
   "metadata": {},
   "outputs": [
    {
     "name": "stdout",
     "output_type": "stream",
     "text": [
      "(41, 4)\n"
     ]
    }
   ],
   "source": [
    "dfz = df[(df.X == 0)&(df.Y == 0)]\n",
    "print(dfz.shape)\n",
    "z= np.linspace(zl, zr, Nz+1)"
   ]
  },
  {
   "cell_type": "code",
   "execution_count": 96,
   "id": "015f7957",
   "metadata": {},
   "outputs": [
    {
     "data": {
      "text/plain": [
       "[<matplotlib.lines.Line2D at 0x27d06a68400>]"
      ]
     },
     "execution_count": 96,
     "metadata": {},
     "output_type": "execute_result"
    },
    {
     "data": {
      "image/png": "[encoded data removed]",
      "text/plain": [
       "<Figure size 640x480 with 1 Axes>"
      ]
     },
     "metadata": {},
     "output_type": "display_data"
    }
   ],
   "source": [
    "plt.plot(z, dfz.dens, 'r*')"
   ]
  },
  {
   "cell_type": "code",
   "execution_count": 97,
   "id": "37cac72b",
   "metadata": {},
   "outputs": [
    {
     "data": {
      "text/plain": [
       "[<matplotlib.lines.Line2D at 0x27d06beebb0>]"
      ]
     },
     "execution_count": 97,
     "metadata": {},
     "output_type": "execute_result"
    },
    {
     "data": {
      "image/png": "[encoded data removed]",
      "text/plain": [
       "<Figure size 640x480 with 1 Axes>"
      ]
     },
     "metadata": {},
     "output_type": "display_data"
    }
   ],
   "source": [
    "plt.plot(z, anaFunc(0,0,z)**2)"
   ]
  },
  {
   "cell_type": "code",
   "execution_count": null,
   "id": "289b6778",
   "metadata": {},
   "outputs": [],
   "source": []
  }
 ],
 "metadata": {
  "kernelspec": {
   "display_name": "Python 3 (ipykernel)",
   "language": "python",
   "name": "python3"
  },
  "language_info": {
   "codemirror_mode": {
    "name": "ipython",
    "version": 3
   },
   "file_extension": ".py",
   "mimetype": "text/x-python",
   "name": "python",
   "nbconvert_exporter": "python",
   "pygments_lexer": "ipython3",
   "version": "3.9.7"
  }
 },
 "nbformat": 4,
 "nbformat_minor": 5
}
