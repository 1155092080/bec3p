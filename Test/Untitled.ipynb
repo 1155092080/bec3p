{
 "cells": [
  {
   "cell_type": "code",
   "execution_count": 20,
   "metadata": {},
   "outputs": [],
   "source": [
    "import csv\n",
    "import pandas as pd\n",
    "import numpy as np\n",
    "import matplotlib.pyplot as plt\n",
    "from scipy import integrate\n",
    "# read flash.dat to a list of lists\n",
    "# datContent = [i.strip().split() for i in open(\"./densZ0002680.dat\").readlines()]\n",
    "# df = pd.read_csv(\"./data/densX0000220.dat\", sep=\" \",  names=[\"X\",\"Y\",\"Z\",\"dens\"])\n",
    "# data = np.array([df.X.values, df.Y.values, df.Z.values, df.dens.values])\n",
    "df = pd.read_csv(\"./data/psi_ini.dat\", sep=\" \",  names=[\"X\",\"Y\",\"Z\",\"dens\"])\n",
    "data = np.array([df.X.values, df.Y.values, df.Z.values, df.dens.values])\n",
    "Nx = 80\n",
    "Ny = 80\n",
    "Nz = 80\n",
    "xr = max(data[0])\n",
    "xl = min(data[0])\n",
    "yr = max(data[1])\n",
    "yl = min(data[1])\n",
    "zr = max(data[2])\n",
    "zl = min(data[2])\n",
    "dx = (xr-xl)/Nx\n",
    "dy = (yr-yl)/Ny\n",
    "dz = (zr-zl)/Nz"
   ]
  },
  {
   "cell_type": "code",
   "execution_count": 21,
   "metadata": {},
   "outputs": [
    {
     "name": "stdout",
     "output_type": "stream",
     "text": [
      "531441\n"
     ]
    },
    {
     "data": {
      "text/html": [
       "<div>\n",
       "<style scoped>\n",
       "    .dataframe tbody tr th:only-of-type {\n",
       "        vertical-align: middle;\n",
       "    }\n",
       "\n",
       "    .dataframe tbody tr th {\n",
       "        vertical-align: top;\n",
       "    }\n",
       "\n",
       "    .dataframe thead th {\n",
       "        text-align: right;\n",
       "    }\n",
       "</style>\n",
       "<table border=\"1\" class=\"dataframe\">\n",
       "  <thead>\n",
       "    <tr style=\"text-align: right;\">\n",
       "      <th></th>\n",
       "      <th>X</th>\n",
       "      <th>Y</th>\n",
       "      <th>Z</th>\n",
       "      <th>dens</th>\n",
       "    </tr>\n",
       "  </thead>\n",
       "  <tbody>\n",
       "    <tr>\n",
       "      <th>0</th>\n",
       "      <td>-5.0</td>\n",
       "      <td>-5.0</td>\n",
       "      <td>-5.000</td>\n",
       "      <td>0.000000e+00</td>\n",
       "    </tr>\n",
       "    <tr>\n",
       "      <th>1</th>\n",
       "      <td>-5.0</td>\n",
       "      <td>-5.0</td>\n",
       "      <td>-4.875</td>\n",
       "      <td>1.748498e-320</td>\n",
       "    </tr>\n",
       "    <tr>\n",
       "      <th>2</th>\n",
       "      <td>-5.0</td>\n",
       "      <td>-5.0</td>\n",
       "      <td>-4.750</td>\n",
       "      <td>2.937490e-315</td>\n",
       "    </tr>\n",
       "    <tr>\n",
       "      <th>3</th>\n",
       "      <td>-5.0</td>\n",
       "      <td>-5.0</td>\n",
       "      <td>-4.625</td>\n",
       "      <td>3.608820e-310</td>\n",
       "    </tr>\n",
       "    <tr>\n",
       "      <th>4</th>\n",
       "      <td>-5.0</td>\n",
       "      <td>-5.0</td>\n",
       "      <td>-4.500</td>\n",
       "      <td>3.243670e-305</td>\n",
       "    </tr>\n",
       "    <tr>\n",
       "      <th>...</th>\n",
       "      <td>...</td>\n",
       "      <td>...</td>\n",
       "      <td>...</td>\n",
       "      <td>...</td>\n",
       "    </tr>\n",
       "    <tr>\n",
       "      <th>531436</th>\n",
       "      <td>5.0</td>\n",
       "      <td>5.0</td>\n",
       "      <td>4.500</td>\n",
       "      <td>3.243670e-305</td>\n",
       "    </tr>\n",
       "    <tr>\n",
       "      <th>531437</th>\n",
       "      <td>5.0</td>\n",
       "      <td>5.0</td>\n",
       "      <td>4.625</td>\n",
       "      <td>3.608820e-310</td>\n",
       "    </tr>\n",
       "    <tr>\n",
       "      <th>531438</th>\n",
       "      <td>5.0</td>\n",
       "      <td>5.0</td>\n",
       "      <td>4.750</td>\n",
       "      <td>2.937490e-315</td>\n",
       "    </tr>\n",
       "    <tr>\n",
       "      <th>531439</th>\n",
       "      <td>5.0</td>\n",
       "      <td>5.0</td>\n",
       "      <td>4.875</td>\n",
       "      <td>1.748498e-320</td>\n",
       "    </tr>\n",
       "    <tr>\n",
       "      <th>531440</th>\n",
       "      <td>5.0</td>\n",
       "      <td>5.0</td>\n",
       "      <td>5.000</td>\n",
       "      <td>0.000000e+00</td>\n",
       "    </tr>\n",
       "  </tbody>\n",
       "</table>\n",
       "<p>531441 rows × 4 columns</p>\n",
       "</div>"
      ],
      "text/plain": [
       "          X    Y      Z           dens\n",
       "0      -5.0 -5.0 -5.000   0.000000e+00\n",
       "1      -5.0 -5.0 -4.875  1.748498e-320\n",
       "2      -5.0 -5.0 -4.750  2.937490e-315\n",
       "3      -5.0 -5.0 -4.625  3.608820e-310\n",
       "4      -5.0 -5.0 -4.500  3.243670e-305\n",
       "...     ...  ...    ...            ...\n",
       "531436  5.0  5.0  4.500  3.243670e-305\n",
       "531437  5.0  5.0  4.625  3.608820e-310\n",
       "531438  5.0  5.0  4.750  2.937490e-315\n",
       "531439  5.0  5.0  4.875  1.748498e-320\n",
       "531440  5.0  5.0  5.000   0.000000e+00\n",
       "\n",
       "[531441 rows x 4 columns]"
      ]
     },
     "execution_count": 21,
     "metadata": {},
     "output_type": "execute_result"
    }
   ],
   "source": [
    "print((Nx+1)**3)\n",
    "df"
   ]
  },
  {
   "cell_type": "code",
   "execution_count": 22,
   "metadata": {},
   "outputs": [],
   "source": [
    "def ijk(i, j, k, Nx, Ny, Nz):\n",
    "    return [(((i) * (Ny + 1)) + (j)) * (Nz + 1) + (k)]\n",
    "\n",
    "def gene_data(f, xl, Nx, dx, yl, Ny, dy, zl, Nz, dz):\n",
    "    data_gen = np.zeros((Nx+1)*(Ny+1)*(Nz+1))\n",
    "    for i in range(Nx+1):\n",
    "        for j in range(Ny+1):\n",
    "            for k in range(Nz+1):\n",
    "                data_gen[ijk(i, j, k, Nx, Ny, Nz)] = f(xl+i*dx, yl+j*dy, zl+k*dz)\n",
    "    return data_gen"
   ]
  },
  {
   "cell_type": "code",
   "execution_count": 23,
   "metadata": {},
   "outputs": [
    {
     "name": "stdout",
     "output_type": "stream",
     "text": [
      "[-5.0, 0.125, 80, -5.0, 0.125, 80, -5.0, 0.125, 80]\n"
     ]
    }
   ],
   "source": [
    "print([xl,dx,Nx,yl,dy,Ny,zl,dz,Nz])"
   ]
  },
  {
   "cell_type": "code",
   "execution_count": 24,
   "metadata": {},
   "outputs": [],
   "source": [
    "def get_normsimp(dd, xl, Nx, dx, yl, Ny, dy, zl, Nz, dz):\n",
    "    normz = np.zeros((Nx+1, Ny+1))\n",
    "    normy = np.zeros((Nx+1))\n",
    "    norm = 0\n",
    "    for i in range(Nx+1):\n",
    "        for j in range(Ny+1):\n",
    "            normz[i,j] = dd[(((i) * (Ny + 1)) + (j)) * (Nz + 1)+0] \\\n",
    "            + 2*sum(dd[(((i) * (Ny + 1)) + (j)) * (Nz + 1):(((i) * (Ny + 1)) + (j)) * (Nz + 1)+Nz-2:2]) \\\n",
    "            + 4*sum(dd[(((i) * (Ny + 1)) + (j)) * (Nz + 1)+1:(((i) * (Ny + 1)) + (j)) * (Nz + 1)+Nz-1:2]) \\\n",
    "            + dd[(((i) * (Ny + 1)) + (j)) * (Nz + 1)+ Nz-1]\n",
    "\n",
    "    for i in range(Nx+1):\n",
    "        normy[i] = normz[i, 0] \\\n",
    "        + 2*sum(normz[i, :Ny-2:2]) \\\n",
    "        + 4*sum(normz[i, 1:Ny-1:2]) \\\n",
    "        + normz[i, Ny-1]\n",
    "\n",
    "    norm = normy[0] \\\n",
    "    + 2*sum(normy[:Nx-2:2]) \\\n",
    "    + 4*sum(normy[1:Nx-1:2]) \\\n",
    "    + normy[Nx-1]\n",
    "\n",
    "    return norm*dx*dy*dz/27"
   ]
  },
  {
   "cell_type": "markdown",
   "metadata": {},
   "source": [
    "## test get_normsimp"
   ]
  },
  {
   "cell_type": "code",
   "execution_count": 26,
   "metadata": {},
   "outputs": [],
   "source": [
    "omg = 20\n",
    "pi = 4 * np.arctan(1)\n",
    "f1 = lambda x, y, z: pow(np.exp(-omg*(x**2+y**2+z**2)/2)*pow(omg/pi,3/4),2)\n",
    "f2 = lambda x, y, z: np.exp(-(x ** 2 + y ** 2 + z ** 2))\n",
    "\n",
    "test_ana1 = gene_data(f1, xl, Nx, dx, yl, Ny, dy, zl, Nz, dz)\n",
    "test_ana2 = gene_data(f2, xl, Nx, dx, yl, Ny, dy, zl, Nz, dz)"
   ]
  },
  {
   "cell_type": "code",
   "execution_count": 27,
   "metadata": {},
   "outputs": [
    {
     "data": {
      "text/plain": [
       "0.9992554902294407"
      ]
     },
     "execution_count": 27,
     "metadata": {},
     "output_type": "execute_result"
    }
   ],
   "source": [
    "get_normsimp(test_ana1, xl, Nx, dx, yl, Ny, dy, zl, Nz, dz)"
   ]
  },
  {
   "cell_type": "code",
   "execution_count": 8,
   "metadata": {},
   "outputs": [
    {
     "data": {
      "text/plain": [
       "(1.0000000000000013, 1.4749921708438215e-08)"
      ]
     },
     "execution_count": 8,
     "metadata": {},
     "output_type": "execute_result"
    }
   ],
   "source": [
    "integrate.tplquad(f1, xl, xr, yl, yr, zl, zr)"
   ]
  },
  {
   "cell_type": "code",
   "execution_count": 9,
   "metadata": {},
   "outputs": [
    {
     "data": {
      "text/plain": [
       "5.568327996630138"
      ]
     },
     "execution_count": 9,
     "metadata": {},
     "output_type": "execute_result"
    }
   ],
   "source": [
    "get_normsimp(test_ana2, xl, Nx, dx, yl, Ny, dy, zl, Nz, dz)"
   ]
  },
  {
   "cell_type": "code",
   "execution_count": 10,
   "metadata": {},
   "outputs": [
    {
     "data": {
      "text/plain": [
       "(5.568327996806024, 1.4650679248701554e-08)"
      ]
     },
     "execution_count": 10,
     "metadata": {},
     "output_type": "execute_result"
    }
   ],
   "source": [
    "integrate.tplquad(f2, xl, xr, yl, yr, zl, zr)"
   ]
  },
  {
   "cell_type": "markdown",
   "metadata": {},
   "source": [
    "## Test initial wave function and trap"
   ]
  },
  {
   "cell_type": "code",
   "execution_count": 28,
   "metadata": {},
   "outputs": [
    {
     "name": "stdout",
     "output_type": "stream",
     "text": [
      "[0.9992554902294407, 0.7057237997926548, 1]\n",
      "(81, 4)\n"
     ]
    },
    {
     "data": {
      "text/plain": [
       "<matplotlib.legend.Legend at 0x7fd2be11f250>"
      ]
     },
     "execution_count": 28,
     "metadata": {},
     "output_type": "execute_result"
    },
    {
     "data": {
      "image/png": "[encoded data removed]",
      "text/plain": [
       "<Figure size 432x288 with 1 Axes>"
      ]
     },
     "metadata": {
      "needs_background": "light"
     },
     "output_type": "display_data"
    }
   ],
   "source": [
    "N = 1\n",
    "pi = 4 * np.arctan(1)\n",
    "omg = 20\n",
    "norm = np.sqrt(N)*pow(omg/pi,3/4)\n",
    "anaFunc = lambda x, y, z: np.exp(-omg*(x**2+y**2+z**2)/2)*norm\n",
    "\n",
    "data_anal = gene_data(anaFunc, xl, Nx, dx, yl, Ny, dy, zl, Nz, dz)\n",
    "print([get_normsimp(data_anal**2, xl, Nx, dx, yl, Ny, dy, zl, Nz, dz), get_normsimp(df.dens, xl, Nx, dx, yl, Ny, dy, zl, Nz, dz), N])\n",
    "\n",
    "dfz = df[(df.X == 0)&(df.Y == 0)]\n",
    "print(dfz.shape)\n",
    "z= np.linspace(zl, zr, Nz+1)\n",
    "\n",
    "fig = plt.figure()\n",
    "ax1 = fig.add_subplot(111)\n",
    "ax1.plot(z, dfz.dens**2, 'r*', label=\"simulation\")\n",
    "# ax2 = fig.add_subplot(212)\n",
    "ax1.plot(z, anaFunc(0,0,z)**2, 'b--', label=\"analytical\")\n",
    "plt.legend()"
   ]
  },
  {
   "cell_type": "code",
   "execution_count": 29,
   "metadata": {},
   "outputs": [
    {
     "name": "stdout",
     "output_type": "stream",
     "text": [
      "(531441, 4)\n"
     ]
    },
    {
     "data": {
      "text/plain": [
       "<matplotlib.legend.Legend at 0x7fd2c5b0af90>"
      ]
     },
     "execution_count": 29,
     "metadata": {},
     "output_type": "execute_result"
    },
    {
     "data": {
      "image/png": "[encoded data removed]",
      "text/plain": [
       "<Figure size 432x288 with 1 Axes>"
      ]
     },
     "metadata": {
      "needs_background": "light"
     },
     "output_type": "display_data"
    }
   ],
   "source": [
    "N = 1\n",
    "pi = 4 * np.arctan(1)\n",
    "omg = 20\n",
    "norm = np.sqrt(N)*pow(omg/pi,3/4)\n",
    "Vtr = lambda x, y, z: 0.5*omg**2*(x**2+y**2+z**2)\n",
    "\n",
    "dfV = pd.read_csv(\"./data/phi_ini.dat\", sep=\" \",  names=[\"X\",\"Y\",\"Z\",\"phi\"])\n",
    "dfVz = dfV[(dfV.X == 0)&(dfV.Y == 0)]\n",
    "print(dfV.shape)\n",
    "z= np.linspace(zl, zr, Nz+1)\n",
    "\n",
    "fig = plt.figure()\n",
    "ax1 = fig.add_subplot(111)\n",
    "ax1.plot(z, dfVz.phi, 'r*', label=\"simulation\")\n",
    "# ax2 = fig.add_subplot(212)\n",
    "ax1.plot(z, Vtr(0,0,z), 'b--', label=\"analytical\")\n",
    "plt.legend()"
   ]
  },
  {
   "cell_type": "markdown",
   "metadata": {},
   "source": [
    "## Test ground state wave function"
   ]
  },
  {
   "cell_type": "code",
   "execution_count": 35,
   "metadata": {},
   "outputs": [],
   "source": [
    "dfd = pd.read_csv(\"./data/densX0000240.dat\", sep=\" \",  names=[\"X\",\"Y\",\"Z\",\"dens\"])\n",
    "datad = np.array([df.X.values, df.Y.values, df.Z.values, df.dens.values])\n",
    "Nxd = 40\n",
    "Nyd = 40\n",
    "Nzd = 40\n",
    "xrd = max(datad[0])\n",
    "xld = min(datad[0])\n",
    "yrd = max(datad[1])\n",
    "yld = min(datad[1])\n",
    "zrd = max(datad[2])\n",
    "zld = min(datad[2])\n",
    "dxd = (xrd-xld)/Nxd\n",
    "dyd = (yrd-yld)/Nyd\n",
    "dzd = (zrd-zld)/Nzd"
   ]
  },
  {
   "cell_type": "code",
   "execution_count": 36,
   "metadata": {},
   "outputs": [
    {
     "name": "stdout",
     "output_type": "stream",
     "text": [
      "68921\n",
      "[-5.0, 0.25, 40, -5.0, 0.25, 40, -5.0, 0.25, 40]\n"
     ]
    },
    {
     "data": {
      "text/html": [
       "<div>\n",
       "<style scoped>\n",
       "    .dataframe tbody tr th:only-of-type {\n",
       "        vertical-align: middle;\n",
       "    }\n",
       "\n",
       "    .dataframe tbody tr th {\n",
       "        vertical-align: top;\n",
       "    }\n",
       "\n",
       "    .dataframe thead th {\n",
       "        text-align: right;\n",
       "    }\n",
       "</style>\n",
       "<table border=\"1\" class=\"dataframe\">\n",
       "  <thead>\n",
       "    <tr style=\"text-align: right;\">\n",
       "      <th></th>\n",
       "      <th>X</th>\n",
       "      <th>Y</th>\n",
       "      <th>Z</th>\n",
       "      <th>dens</th>\n",
       "    </tr>\n",
       "  </thead>\n",
       "  <tbody>\n",
       "    <tr>\n",
       "      <th>0</th>\n",
       "      <td>-5.0</td>\n",
       "      <td>-5.0</td>\n",
       "      <td>-5.00</td>\n",
       "      <td>0.0</td>\n",
       "    </tr>\n",
       "    <tr>\n",
       "      <th>1</th>\n",
       "      <td>-5.0</td>\n",
       "      <td>-5.0</td>\n",
       "      <td>-4.75</td>\n",
       "      <td>0.0</td>\n",
       "    </tr>\n",
       "    <tr>\n",
       "      <th>2</th>\n",
       "      <td>-5.0</td>\n",
       "      <td>-5.0</td>\n",
       "      <td>-4.50</td>\n",
       "      <td>0.0</td>\n",
       "    </tr>\n",
       "    <tr>\n",
       "      <th>3</th>\n",
       "      <td>-5.0</td>\n",
       "      <td>-5.0</td>\n",
       "      <td>-4.25</td>\n",
       "      <td>0.0</td>\n",
       "    </tr>\n",
       "    <tr>\n",
       "      <th>4</th>\n",
       "      <td>-5.0</td>\n",
       "      <td>-5.0</td>\n",
       "      <td>-4.00</td>\n",
       "      <td>0.0</td>\n",
       "    </tr>\n",
       "    <tr>\n",
       "      <th>...</th>\n",
       "      <td>...</td>\n",
       "      <td>...</td>\n",
       "      <td>...</td>\n",
       "      <td>...</td>\n",
       "    </tr>\n",
       "    <tr>\n",
       "      <th>68916</th>\n",
       "      <td>5.0</td>\n",
       "      <td>5.0</td>\n",
       "      <td>4.00</td>\n",
       "      <td>0.0</td>\n",
       "    </tr>\n",
       "    <tr>\n",
       "      <th>68917</th>\n",
       "      <td>5.0</td>\n",
       "      <td>5.0</td>\n",
       "      <td>4.25</td>\n",
       "      <td>0.0</td>\n",
       "    </tr>\n",
       "    <tr>\n",
       "      <th>68918</th>\n",
       "      <td>5.0</td>\n",
       "      <td>5.0</td>\n",
       "      <td>4.50</td>\n",
       "      <td>0.0</td>\n",
       "    </tr>\n",
       "    <tr>\n",
       "      <th>68919</th>\n",
       "      <td>5.0</td>\n",
       "      <td>5.0</td>\n",
       "      <td>4.75</td>\n",
       "      <td>0.0</td>\n",
       "    </tr>\n",
       "    <tr>\n",
       "      <th>68920</th>\n",
       "      <td>5.0</td>\n",
       "      <td>5.0</td>\n",
       "      <td>5.00</td>\n",
       "      <td>0.0</td>\n",
       "    </tr>\n",
       "  </tbody>\n",
       "</table>\n",
       "<p>68921 rows × 4 columns</p>\n",
       "</div>"
      ],
      "text/plain": [
       "         X    Y     Z  dens\n",
       "0     -5.0 -5.0 -5.00   0.0\n",
       "1     -5.0 -5.0 -4.75   0.0\n",
       "2     -5.0 -5.0 -4.50   0.0\n",
       "3     -5.0 -5.0 -4.25   0.0\n",
       "4     -5.0 -5.0 -4.00   0.0\n",
       "...    ...  ...   ...   ...\n",
       "68916  5.0  5.0  4.00   0.0\n",
       "68917  5.0  5.0  4.25   0.0\n",
       "68918  5.0  5.0  4.50   0.0\n",
       "68919  5.0  5.0  4.75   0.0\n",
       "68920  5.0  5.0  5.00   0.0\n",
       "\n",
       "[68921 rows x 4 columns]"
      ]
     },
     "execution_count": 36,
     "metadata": {},
     "output_type": "execute_result"
    }
   ],
   "source": [
    "print((Nxd+1)**3)\n",
    "print([xld,dxd,Nxd,yld,dyd,Nyd,zld,dzd,Nzd])\n",
    "dfd"
   ]
  },
  {
   "cell_type": "code",
   "execution_count": 37,
   "metadata": {},
   "outputs": [
    {
     "data": {
      "text/plain": [
       "0.09620000000000001"
      ]
     },
     "execution_count": 37,
     "metadata": {},
     "output_type": "execute_result"
    }
   ],
   "source": [
    "0.1443/3*2"
   ]
  },
  {
   "cell_type": "code",
   "execution_count": 38,
   "metadata": {},
   "outputs": [
    {
     "data": {
      "text/plain": [
       "0.14429999999999998"
      ]
     },
     "execution_count": 38,
     "metadata": {},
     "output_type": "execute_result"
    }
   ],
   "source": [
    "0.0962*3/2"
   ]
  },
  {
   "cell_type": "code",
   "execution_count": 42,
   "metadata": {},
   "outputs": [
    {
     "name": "stdout",
     "output_type": "stream",
     "text": [
      "(41, 4)\n"
     ]
    },
    {
     "data": {
      "text/plain": [
       "<matplotlib.legend.Legend at 0x7fd2bd6ec210>"
      ]
     },
     "execution_count": 42,
     "metadata": {},
     "output_type": "execute_result"
    },
    {
     "data": {
      "image/png": "[encoded data removed]",
      "text/plain": [
       "<Figure size 432x288 with 1 Axes>"
      ]
     },
     "metadata": {
      "needs_background": "light"
     },
     "output_type": "display_data"
    }
   ],
   "source": [
    "N = 1\n",
    "pi = 4 * np.arctan(1)\n",
    "omg = 7\n",
    "norm = np.sqrt(N)*pow(omg/pi,3/4)\n",
    "anaFunc = lambda x, y, z: np.exp(-omg*(x**2+y**2+z**2)/2)*norm\n",
    "\n",
    "data_anal = gene_data(anaFunc, xld, Nxd, dxd, yld, Nyd, dyd, zld, Nzd, dzd)\n",
    "# print([get_normsimp(data_anal**2, xld, Nxd, dxd, yld, Nyd, dyd, zld, Nzd, dzd), get_normsimp(dfd.dens, xld, Nxd, dxd, yld, Nyd, dyd, zld, Nzd, dzd), N])\n",
    "\n",
    "dfzd = dfd[(dfd.X == 0)&(dfd.Y == 0)]\n",
    "print(dfzd.shape)\n",
    "zd= np.linspace(zld, zrd, Nzd+1)\n",
    "\n",
    "fig = plt.figure()\n",
    "ax1 = fig.add_subplot(111)\n",
    "ax1.plot(zd, dfzd.dens, 'r*', label=\"simulation\")\n",
    "# ax2 = fig.add_subplot(212)\n",
    "ax1.plot(zd, anaFunc(0,0,zd)**2, 'b--', label=\"analytical\")\n",
    "plt.legend()"
   ]
  },
  {
   "cell_type": "code",
   "execution_count": 18,
   "metadata": {},
   "outputs": [
    {
     "data": {
      "text/plain": [
       "0.9996924980112492"
      ]
     },
     "execution_count": 18,
     "metadata": {},
     "output_type": "execute_result"
    }
   ],
   "source": [
    "get_normsimp(dfd.dens, xld, Nxd, dxd, yld, Nyd, dyd, zld, Nzd, dzd)"
   ]
  },
  {
   "cell_type": "code",
   "execution_count": 19,
   "metadata": {},
   "outputs": [
    {
     "data": {
      "text/plain": [
       "0.1905"
      ]
     },
     "execution_count": 19,
     "metadata": {},
     "output_type": "execute_result"
    }
   ],
   "source": [
    "3/2*omg"
   ]
  },
  {
   "cell_type": "code",
   "execution_count": null,
   "metadata": {},
   "outputs": [],
   "source": []
  }
 ],
 "metadata": {
  "kernelspec": {
   "display_name": "Python 3",
   "language": "python",
   "name": "python3"
  },
  "language_info": {
   "codemirror_mode": {
    "name": "ipython",
    "version": 3
   },
   "file_extension": ".py",
   "mimetype": "text/x-python",
   "name": "python",
   "nbconvert_exporter": "python",
   "pygments_lexer": "ipython3",
   "version": "3.7.6"
  }
 },
 "nbformat": 4,
 "nbformat_minor": 5
}
