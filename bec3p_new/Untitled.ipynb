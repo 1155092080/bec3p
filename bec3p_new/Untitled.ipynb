{
 "cells": [
  {
   "cell_type": "code",
   "execution_count": 1,
   "id": "d99d78d9",
   "metadata": {},
   "outputs": [],
   "source": [
    "import csv\n",
    "\n",
    "# read flash.dat to a list of lists\n",
    "datContent = [i.strip().split() for i in open(\"./densZ0002680.dat\").readlines()]"
   ]
  },
  {
   "cell_type": "code",
   "execution_count": 17,
   "id": "eb7167d7",
   "metadata": {},
   "outputs": [
    {
     "data": {
      "text/plain": [
       "9702"
      ]
     },
     "execution_count": 17,
     "metadata": {},
     "output_type": "execute_result"
    }
   ],
   "source": [
    "len(datContent)"
   ]
  },
  {
   "cell_type": "code",
   "execution_count": 11,
   "id": "06786a95",
   "metadata": {},
   "outputs": [
    {
     "data": {
      "text/plain": [
       "['24.000000', '-72.000000', '-120.000000', '0']"
      ]
     },
     "execution_count": 11,
     "metadata": {},
     "output_type": "execute_result"
    }
   ],
   "source": [
    "datContent[100]"
   ]
  },
  {
   "cell_type": "code",
   "execution_count": 14,
   "id": "bd06bcce",
   "metadata": {},
   "outputs": [
    {
     "data": {
      "text/plain": [
       "5.770969660916121"
      ]
     },
     "execution_count": 14,
     "metadata": {},
     "output_type": "execute_result"
    }
   ],
   "source": []
  },
  {
   "cell_type": "code",
   "execution_count": null,
   "id": "1ae8eb91",
   "metadata": {},
   "outputs": [],
   "source": []
  }
 ],
 "metadata": {
  "kernelspec": {
   "display_name": "Python 3 (ipykernel)",
   "language": "python",
   "name": "python3"
  },
  "language_info": {
   "codemirror_mode": {
    "name": "ipython",
    "version": 3
   },
   "file_extension": ".py",
   "mimetype": "text/x-python",
   "name": "python",
   "nbconvert_exporter": "python",
   "pygments_lexer": "ipython3",
   "version": "3.9.7"
  }
 },
 "nbformat": 4,
 "nbformat_minor": 5
}
