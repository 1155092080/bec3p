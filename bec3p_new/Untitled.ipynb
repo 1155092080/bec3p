{
 "cells": [
  {
   "cell_type": "code",
   "execution_count": 1,
   "id": "5dca4797",
   "metadata": {},
   "outputs": [],
   "source": [
    "import csv\n",
    "import pandas as pd\n",
    "import numpy as np\n",
    "import matplotlib.pyplot as plt\n",
    "from scipy import integrate\n",
    "# read flash.dat to a list of lists\n",
    "# datContent = [i.strip().split() for i in open(\"./densZ0002680.dat\").readlines()]\n",
    "# df = pd.read_csv(\"./data/densX0000220.dat\", sep=\" \",  names=[\"X\",\"Y\",\"Z\",\"dens\"])\n",
    "# data = np.array([df.X.values, df.Y.values, df.Z.values, df.dens.values])\n",
    "df = pd.read_csv(\"./data/psi34.dat\", sep=\" \",  names=[\"X\",\"Y\",\"Z\",\"dens\"])\n",
    "data = np.array([df.X.values, df.Y.values, df.dens.values])\n",
    "Nx = 80\n",
    "Ny = 80\n",
    "Nz = 80\n",
    "xr = max(data[0])\n",
    "xl = min(data[0])\n",
    "yr = max(data[1])\n",
    "yl = min(data[1])\n",
    "zr = xr#max(data[2])\n",
    "zl = xl#min(data[2])\n",
    "dx = (xr-xl)/Nx\n",
    "dy = (yr-yl)/Ny\n",
    "dz = (zr-zl)/Nz"
   ]
  },
  {
   "cell_type": "code",
   "execution_count": 2,
   "id": "6b826ca6",
   "metadata": {},
   "outputs": [
    {
     "name": "stdout",
     "output_type": "stream",
     "text": [
      "531441\n"
     ]
    },
    {
     "data": {
      "text/html": [
       "<div>\n",
       "<style scoped>\n",
       "    .dataframe tbody tr th:only-of-type {\n",
       "        vertical-align: middle;\n",
       "    }\n",
       "\n",
       "    .dataframe tbody tr th {\n",
       "        vertical-align: top;\n",
       "    }\n",
       "\n",
       "    .dataframe thead th {\n",
       "        text-align: right;\n",
       "    }\n",
       "</style>\n",
       "<table border=\"1\" class=\"dataframe\">\n",
       "  <thead>\n",
       "    <tr style=\"text-align: right;\">\n",
       "      <th></th>\n",
       "      <th>X</th>\n",
       "      <th>Y</th>\n",
       "      <th>Z</th>\n",
       "      <th>dens</th>\n",
       "    </tr>\n",
       "  </thead>\n",
       "  <tbody>\n",
       "    <tr>\n",
       "      <th>0</th>\n",
       "      <td>-5.0</td>\n",
       "      <td>-5.0</td>\n",
       "      <td>-5.000</td>\n",
       "      <td>9.947150e-115</td>\n",
       "    </tr>\n",
       "    <tr>\n",
       "      <th>1</th>\n",
       "      <td>-5.0</td>\n",
       "      <td>-5.0</td>\n",
       "      <td>-4.875</td>\n",
       "      <td>7.481460e-113</td>\n",
       "    </tr>\n",
       "    <tr>\n",
       "      <th>2</th>\n",
       "      <td>-5.0</td>\n",
       "      <td>-5.0</td>\n",
       "      <td>-4.750</td>\n",
       "      <td>5.043980e-111</td>\n",
       "    </tr>\n",
       "    <tr>\n",
       "      <th>3</th>\n",
       "      <td>-5.0</td>\n",
       "      <td>-5.0</td>\n",
       "      <td>-4.625</td>\n",
       "      <td>3.048310e-109</td>\n",
       "    </tr>\n",
       "    <tr>\n",
       "      <th>4</th>\n",
       "      <td>-5.0</td>\n",
       "      <td>-5.0</td>\n",
       "      <td>-4.500</td>\n",
       "      <td>1.651370e-107</td>\n",
       "    </tr>\n",
       "    <tr>\n",
       "      <th>...</th>\n",
       "      <td>...</td>\n",
       "      <td>...</td>\n",
       "      <td>...</td>\n",
       "      <td>...</td>\n",
       "    </tr>\n",
       "    <tr>\n",
       "      <th>531436</th>\n",
       "      <td>5.0</td>\n",
       "      <td>5.0</td>\n",
       "      <td>4.500</td>\n",
       "      <td>1.651370e-107</td>\n",
       "    </tr>\n",
       "    <tr>\n",
       "      <th>531437</th>\n",
       "      <td>5.0</td>\n",
       "      <td>5.0</td>\n",
       "      <td>4.625</td>\n",
       "      <td>3.048310e-109</td>\n",
       "    </tr>\n",
       "    <tr>\n",
       "      <th>531438</th>\n",
       "      <td>5.0</td>\n",
       "      <td>5.0</td>\n",
       "      <td>4.750</td>\n",
       "      <td>5.043980e-111</td>\n",
       "    </tr>\n",
       "    <tr>\n",
       "      <th>531439</th>\n",
       "      <td>5.0</td>\n",
       "      <td>5.0</td>\n",
       "      <td>4.875</td>\n",
       "      <td>7.481460e-113</td>\n",
       "    </tr>\n",
       "    <tr>\n",
       "      <th>531440</th>\n",
       "      <td>5.0</td>\n",
       "      <td>5.0</td>\n",
       "      <td>5.000</td>\n",
       "      <td>9.947150e-115</td>\n",
       "    </tr>\n",
       "  </tbody>\n",
       "</table>\n",
       "<p>531441 rows × 4 columns</p>\n",
       "</div>"
      ],
      "text/plain": [
       "          X    Y      Z           dens\n",
       "0      -5.0 -5.0 -5.000  9.947150e-115\n",
       "1      -5.0 -5.0 -4.875  7.481460e-113\n",
       "2      -5.0 -5.0 -4.750  5.043980e-111\n",
       "3      -5.0 -5.0 -4.625  3.048310e-109\n",
       "4      -5.0 -5.0 -4.500  1.651370e-107\n",
       "...     ...  ...    ...            ...\n",
       "531436  5.0  5.0  4.500  1.651370e-107\n",
       "531437  5.0  5.0  4.625  3.048310e-109\n",
       "531438  5.0  5.0  4.750  5.043980e-111\n",
       "531439  5.0  5.0  4.875  7.481460e-113\n",
       "531440  5.0  5.0  5.000  9.947150e-115\n",
       "\n",
       "[531441 rows x 4 columns]"
      ]
     },
     "execution_count": 2,
     "metadata": {},
     "output_type": "execute_result"
    }
   ],
   "source": [
    "print((Nx+1)**3)\n",
    "df"
   ]
  },
  {
   "cell_type": "code",
   "execution_count": 3,
   "id": "db6b2e94",
   "metadata": {},
   "outputs": [],
   "source": [
    "def ijk(i, j, k, Nx, Ny, Nz):\n",
    "    return [(((i) * (Ny + 1)) + (j)) * (Nz + 1) + (k)]\n",
    "\n",
    "def gene_data(f, xl, Nx, dx, yl, Ny, dy, zl, Nz, dz):\n",
    "    data_gen = np.zeros((Nx+1)*(Ny+1)*(Nz+1))\n",
    "    for i in range(Nx+1):\n",
    "        for j in range(Ny+1):\n",
    "            for k in range(Nz+1):\n",
    "                data_gen[ijk(i, j, k, Nx, Ny, Nz)] = f(xl+i*dx, yl+j*dy, zl+k*dz)\n",
    "    return data_gen"
   ]
  },
  {
   "cell_type": "code",
   "execution_count": 4,
   "id": "52419b0a",
   "metadata": {},
   "outputs": [
    {
     "name": "stdout",
     "output_type": "stream",
     "text": [
      "[-5.0, 0.125, 80, -5.0, 0.125, 80, -5.0, 0.125, 80]\n"
     ]
    }
   ],
   "source": [
    "print([xl,dx,Nx,yl,dy,Ny,zl,dz,Nz])"
   ]
  },
  {
   "cell_type": "code",
   "execution_count": 5,
   "id": "2d3f9436",
   "metadata": {},
   "outputs": [],
   "source": [
    "def get_normsimp(dd, xl, Nx, dx, yl, Ny, dy, zl, Nz, dz):\n",
    "    normz = np.zeros((Nx+1, Ny+1))\n",
    "    normy = np.zeros((Nx+1))\n",
    "    norm = 0\n",
    "    for i in range(Nx+1):\n",
    "        for j in range(Ny+1):\n",
    "            normz[i,j] = dd[(((i) * (Ny + 1)) + (j)) * (Nz + 1)+0] \\\n",
    "            + 2*sum(dd[(((i) * (Ny + 1)) + (j)) * (Nz + 1):(((i) * (Ny + 1)) + (j)) * (Nz + 1)+Nz-2:2]) \\\n",
    "            + 4*sum(dd[(((i) * (Ny + 1)) + (j)) * (Nz + 1)+1:(((i) * (Ny + 1)) + (j)) * (Nz + 1)+Nz-1:2]) \\\n",
    "            + dd[(((i) * (Ny + 1)) + (j)) * (Nz + 1)+ Nz-1]\n",
    "\n",
    "    for i in range(Nx+1):\n",
    "        normy[i] = normz[i, 0] \\\n",
    "        + 2*sum(normz[i, :Ny-2:2]) \\\n",
    "        + 4*sum(normz[i, 1:Ny-1:2]) \\\n",
    "        + normz[i, Ny-1]\n",
    "\n",
    "    norm = normy[0] \\\n",
    "    + 2*sum(normy[:Nx-2:2]) \\\n",
    "    + 4*sum(normy[1:Nx-1:2]) \\\n",
    "    + normy[Nx-1]\n",
    "\n",
    "    return norm*dx*dy*dz/27"
   ]
  },
  {
   "cell_type": "markdown",
   "id": "b3751a6e",
   "metadata": {},
   "source": [
    "## test get_normsimp"
   ]
  },
  {
   "cell_type": "code",
   "execution_count": 6,
   "id": "16a3757c",
   "metadata": {},
   "outputs": [],
   "source": [
    "omg = 7\n",
    "pi = 4 * np.arctan(1)\n",
    "f1 = lambda x, y, z: pow(np.exp(-omg*(x**2+y**2+z**2)/2)*pow(omg/pi,3/4),2)\n",
    "f2 = lambda x, y, z: np.exp(-(x ** 2 + y ** 2 + z ** 2))\n",
    "\n",
    "test_ana1 = gene_data(f1, xl, Nx, dx, yl, Ny, dy, zl, Nz, dz)\n",
    "test_ana2 = gene_data(f2, xl, Nx, dx, yl, Ny, dy, zl, Nz, dz)"
   ]
  },
  {
   "cell_type": "code",
   "execution_count": 7,
   "id": "606b6f31",
   "metadata": {},
   "outputs": [
    {
     "data": {
      "text/plain": [
       "0.9999999996810381"
      ]
     },
     "execution_count": 7,
     "metadata": {},
     "output_type": "execute_result"
    }
   ],
   "source": [
    "get_normsimp(test_ana1, xl, Nx, dx, yl, Ny, dy, zl, Nz, dz)"
   ]
  },
  {
   "cell_type": "code",
   "execution_count": 44,
   "id": "d7ba9ae7",
   "metadata": {},
   "outputs": [
    {
     "data": {
      "text/plain": [
       "(1.0000000000000013, 1.4749921708438215e-08)"
      ]
     },
     "execution_count": 44,
     "metadata": {},
     "output_type": "execute_result"
    }
   ],
   "source": [
    "integrate.tplquad(f1, xl, xr, yl, yr, zl, zr)"
   ]
  },
  {
   "cell_type": "code",
   "execution_count": 8,
   "id": "4b77350e",
   "metadata": {},
   "outputs": [
    {
     "data": {
      "text/plain": [
       "5.568327996630138"
      ]
     },
     "execution_count": 8,
     "metadata": {},
     "output_type": "execute_result"
    }
   ],
   "source": [
    "get_normsimp(test_ana2, xl, Nx, dx, yl, Ny, dy, zl, Nz, dz)"
   ]
  },
  {
   "cell_type": "code",
   "execution_count": 46,
   "id": "ee67003c",
   "metadata": {},
   "outputs": [
    {
     "data": {
      "text/plain": [
       "(5.568327996806024, 1.4650679248701553e-08)"
      ]
     },
     "execution_count": 46,
     "metadata": {},
     "output_type": "execute_result"
    }
   ],
   "source": [
    "integrate.tplquad(f2, xl, xr, yl, yr, zl, zr)"
   ]
  },
  {
   "cell_type": "markdown",
   "id": "72c5a777",
   "metadata": {},
   "source": [
    "## Define analytical function"
   ]
  },
  {
   "cell_type": "code",
   "execution_count": 26,
   "id": "d61c1616",
   "metadata": {},
   "outputs": [
    {
     "name": "stdout",
     "output_type": "stream",
     "text": [
      "[0.9999999996810381, 0.8503991975601645, 1]\n",
      "(81, 4)\n"
     ]
    },
    {
     "data": {
      "text/plain": [
       "<matplotlib.legend.Legend at 0x24d60d1bf40>"
      ]
     },
     "execution_count": 26,
     "metadata": {},
     "output_type": "execute_result"
    },
    {
     "data": {
      "image/png": "[encoded data removed]",
      "text/plain": [
       "<Figure size 640x480 with 1 Axes>"
      ]
     },
     "metadata": {},
     "output_type": "display_data"
    }
   ],
   "source": [
    "N = 1\n",
    "omg = 7\n",
    "pi = 4 * np.arctan(1)\n",
    "norm = np.sqrt(N)*pow(omg/pi,3/4)\n",
    "anaFunc = lambda x, y, z: np.exp(-omg*(x**2+y**2+z**2)/2)*norm\n",
    "\n",
    "data_anal = gene_data(anaFunc, xl, Nx, dx, yl, Ny, dy, zl, Nz, dz)\n",
    "print([get_normsimp(data_anal**2, xl, Nx, dx, yl, Ny, dy, zl, Nz, dz), get_normsimp(df.dens, xl, Nx, dx, yl, Ny, dy, zl, Nz, dz), N])\n",
    "\n",
    "dfz = df[(df.X == 0)&(df.Y == 0)]\n",
    "print(dfz.shape)\n",
    "z= np.linspace(zl, zr, Nz+1)\n",
    "\n",
    "fig = plt.figure()\n",
    "ax1 = fig.add_subplot(111)\n",
    "ax1.plot(z, dfz.dens, 'r*', label=\"simulation\")\n",
    "ax1.plot(z, anaFunc(0,0,z)**2, 'b--', label=\"analytical\")\n",
    "plt.legend()"
   ]
  },
  {
   "cell_type": "code",
   "execution_count": 14,
   "id": "6df67b88",
   "metadata": {},
   "outputs": [
    {
     "data": {
      "text/html": [
       "<div>\n",
       "<style scoped>\n",
       "    .dataframe tbody tr th:only-of-type {\n",
       "        vertical-align: middle;\n",
       "    }\n",
       "\n",
       "    .dataframe tbody tr th {\n",
       "        vertical-align: top;\n",
       "    }\n",
       "\n",
       "    .dataframe thead th {\n",
       "        text-align: right;\n",
       "    }\n",
       "</style>\n",
       "<table border=\"1\" class=\"dataframe\">\n",
       "  <thead>\n",
       "    <tr style=\"text-align: right;\">\n",
       "      <th></th>\n",
       "      <th>X</th>\n",
       "      <th>Y</th>\n",
       "      <th>Z</th>\n",
       "      <th>dens</th>\n",
       "    </tr>\n",
       "  </thead>\n",
       "  <tbody>\n",
       "    <tr>\n",
       "      <th>265720</th>\n",
       "      <td>0.0</td>\n",
       "      <td>0.0</td>\n",
       "      <td>0.0</td>\n",
       "      <td>1.0</td>\n",
       "    </tr>\n",
       "  </tbody>\n",
       "</table>\n",
       "</div>"
      ],
      "text/plain": [
       "          X    Y    Z  dens\n",
       "265720  0.0  0.0  0.0   1.0"
      ]
     },
     "execution_count": 14,
     "metadata": {},
     "output_type": "execute_result"
    }
   ],
   "source": [
    "df[(df.X == 0)&(df.Y == 0)&(df.Z == 0)]"
   ]
  },
  {
   "cell_type": "code",
   "execution_count": 24,
   "id": "b71e35c2",
   "metadata": {},
   "outputs": [
    {
     "data": {
      "text/plain": [
       "1.1759185936209313"
      ]
     },
     "execution_count": 24,
     "metadata": {},
     "output_type": "execute_result"
    }
   ],
   "source": [
    "anaFunc(0,0,0)**2*np.sqrt(dx)"
   ]
  },
  {
   "cell_type": "code",
   "execution_count": 13,
   "id": "6fde64eb",
   "metadata": {},
   "outputs": [
    {
     "data": {
      "text/plain": [
       "1.8237324493167395"
      ]
     },
     "execution_count": 13,
     "metadata": {},
     "output_type": "execute_result"
    }
   ],
   "source": [
    "norm"
   ]
  },
  {
   "cell_type": "code",
   "execution_count": 16,
   "id": "7ff0d29f",
   "metadata": {},
   "outputs": [
    {
     "data": {
      "text/plain": [
       "1.2217632055191634"
      ]
     },
     "execution_count": 16,
     "metadata": {},
     "output_type": "execute_result"
    }
   ],
   "source": [
    "pow(omg/pi,1/4)"
   ]
  },
  {
   "cell_type": "code",
   "execution_count": null,
   "id": "e21e803b",
   "metadata": {},
   "outputs": [],
   "source": []
  }
 ],
 "metadata": {
  "kernelspec": {
   "display_name": "Python 3 (ipykernel)",
   "language": "python",
   "name": "python3"
  },
  "language_info": {
   "codemirror_mode": {
    "name": "ipython",
    "version": 3
   },
   "file_extension": ".py",
   "mimetype": "text/x-python",
   "name": "python",
   "nbconvert_exporter": "python",
   "pygments_lexer": "ipython3",
   "version": "3.9.7"
  }
 },
 "nbformat": 4,
 "nbformat_minor": 5
}
